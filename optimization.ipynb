{
 "cells": [
  {
   "cell_type": "markdown",
   "metadata": {},
   "source": [
    "# Optimizing Model Parameters\n",
    "- Now model is ready, time to train, validate and test it by optimizing its parameters on our data."
   ]
  },
  {
   "cell_type": "markdown",
   "metadata": {},
   "source": [
    "## Prerequisite Code\n",
    "- We load the code from the previous sections on Datasets & DataLoaders and Build Model."
   ]
  },
  {
   "cell_type": "code",
   "execution_count": 8,
   "metadata": {},
   "outputs": [],
   "source": [
    "import torch\n",
    "from torch import nn\n",
    "from torch.utils.data import DataLoader\n",
    "from torchvision import datasets\n",
    "from torchvision.transforms import ToTensor\n",
    "\n",
    "training_data = datasets.FashionMNIST(\n",
    "    root=\"data\",\n",
    "    train=True,\n",
    "    download=True,\n",
    "    transform=ToTensor()\n",
    ")\n",
    "\n",
    "test_data = datasets.FashionMNIST(\n",
    "    root=\"data\",\n",
    "    train=False,\n",
    "    download=True,\n",
    "    transform=ToTensor()\n",
    ")\n",
    "\n",
    "train_dataloader = DataLoader(training_data, batch_size=64)\n",
    "test_dataloader = DataLoader(test_data, batch_size=64)\n",
    "\n",
    "class NeuralNetwork(nn.Module):\n",
    "    def __init__(self):\n",
    "        super(NeuralNetwork, self).__init__()\n",
    "        self.flatten = nn.Flatten()\n",
    "        self.linear_relu_stack = nn.Sequential(\n",
    "            nn.Linear(28*28, 512),\n",
    "            nn.ReLU(),\n",
    "            nn.Linear(512, 512),\n",
    "            nn.ReLU(),\n",
    "            nn.Linear(512, 10),\n",
    "        )\n",
    "\n",
    "    def forward(self, x):\n",
    "        x = self.flatten(x)\n",
    "        logits = self.linear_relu_stack(x)\n",
    "        return logits\n",
    "\n",
    "model = NeuralNetwork()"
   ]
  },
  {
   "cell_type": "markdown",
   "metadata": {},
   "source": [
    "## Hyperparameters\n",
    "- Hyperparameters are adjustable parameters that let you control the model optimization process.\n",
    "- Different hyperparameter values can impact model training and convergence rates.\n",
    "\n",
    "We define the following hyperparameters for training:\n",
    " - **Number of Epochs** - the number times to iterate over the dataset\n",
    " - **Batch Size** - the number of data samples propagated through the network before the parameters are updated\n",
    " - **Learning Rate** - how much to update models parameters at each batch/epoch. Smaller values yield slow learning speed, while large values may result in unpredictable behavior during training."
   ]
  },
  {
   "cell_type": "code",
   "execution_count": 9,
   "metadata": {},
   "outputs": [],
   "source": [
    "learning_rate = 1e-3\n",
    "batch_size = 64\n",
    "epochs = 5"
   ]
  },
  {
   "cell_type": "markdown",
   "metadata": {},
   "source": [
    "## Optimization Loop\n",
    "\n",
    "- Each iteration of the optimization loop is called an **epoch**.\n",
    "\n",
    "Each epoch consists of two main parts:\n",
    " - **The Train Loop** - iterate over the training dataset and try to converge to optimal parameters.\n",
    " - **The Validation/Test Loop** - iterate over the test dataset to check if model performance is improving.\n",
    "\n",
    "### Loss Function\n",
    "\n",
    "- **Loss function** measures the degree of dissimilarity of obtained result to the target value,\n",
    "and it is the loss function that we want to minimize during training. \n",
    "- To calculate the loss we make a\n",
    "prediction using the inputs of our given data sample and compare it against the true data label value.\n",
    "\n",
    "Common loss functions include [nn.MSELoss](https://pytorch.org/docs/stable/generated/torch.nn.MSELoss.html#torch.nn.MSELoss) (Mean Square Error) for regression tasks, and\n",
    "[nn.NLLLoss](https://pytorch.org/docs/stable/generated/torch.nn.NLLLoss.html#torch.nn.NLLLoss) (Negative Log Likelihood) for classification.\n",
    "[nn.CrossEntropyLoss](https://pytorch.org/docs/stable/generated/torch.nn.CrossEntropyLoss.html#torch.nn.CrossEntropyLoss) combines ``nn.LogSoftmax`` and ``nn.NLLLoss``.\n",
    "\n",
    "We pass our model's output logits to ``nn.CrossEntropyLoss``, which will normalize the logits and compute the prediction error.\n"
   ]
  },
  {
   "cell_type": "code",
   "execution_count": 10,
   "metadata": {},
   "outputs": [],
   "source": [
    "# Initializeing the loss function\n",
    "loss_fn = nn.CrossEntropyLoss()"
   ]
  },
  {
   "cell_type": "markdown",
   "metadata": {},
   "source": [
    "## Optimizer\n",
    "- Optimization is the process of adjusting model parameters to reduce model error in each training step. **Optimization algorithms** define how this process is performed (in this example we use Stochastic Gradient Descent).\n",
    "- All optimization logic is encapsulated in  the ``optimizer`` object. Here, we use the SGD optimizer.\n",
    "- We initialize the optimizer by registering the model's parameters that need to be trained, and passing in the learning rate hyperparameter."
   ]
  },
  {
   "cell_type": "code",
   "execution_count": 11,
   "metadata": {},
   "outputs": [],
   "source": [
    "optimizer = torch.optim.SGD(model.parameters(), lr = learning_rate)"
   ]
  },
  {
   "cell_type": "markdown",
   "metadata": {},
   "source": [
    "Inside the training loop, optimization happens in three steps:\n",
    " * Call ``optimizer.zero_grad()`` to reset the gradients of model parameters. Gradients by default add up; to prevent double-counting, we explicitly zero them at each iteration.\n",
    " * Backpropagate the prediction loss with a call to ``loss.backward()``. PyTorch deposits the gradients of the loss w.r.t. each parameter.\n",
    " * Once we have our gradients, we call ``optimizer.step()`` to adjust the parameters by the gradients collected in the backward pass."
   ]
  },
  {
   "cell_type": "markdown",
   "metadata": {},
   "source": [
    "# Full Implementation\n",
    "We define `train_loop` that loops over our optimization code, and `test_loop` that evaluates the model's performance against our test data."
   ]
  },
  {
   "cell_type": "code",
   "execution_count": 12,
   "metadata": {},
   "outputs": [],
   "source": [
    "def train_loop(dataloader, model, loss_fun, optimizer):\n",
    "    size = len(dataloader.dataset)\n",
    "    model.train()\n",
    "    for batch, (X,y) in enumerate(dataloader):\n",
    "        # Compute prediction and loss\n",
    "        pred = model(X)\n",
    "        loss = loss_fn(pred, y)\n",
    "\n",
    "        # Backpropagation\n",
    "        loss.backward()\n",
    "        optimizer.step()\n",
    "        optimizer.zero_grad()\n",
    "\n",
    "        if batch % 100 == 0:\n",
    "            loss, current = loss.item(), (batch + 1) * len(X)\n",
    "            print(f\"loss: {loss:>7f} [{current:>5d}/{size:>5d}]\")"
   ]
  },
  {
   "cell_type": "markdown",
   "metadata": {},
   "source": [
    "- `size = len(dataloader.dataset):` This line computes the total number of training samples in the dataset by taking the length of the dataset associated with the given dataloader.\n",
    "- `model.train():` This line sets the model in training mode. Some layers, like dropout and batch normalization, behave differently during training and evaluation, so it's crucial to set the model to training mode before training.\n",
    "- `for batch, (X, y) in enumerate(dataloader):` This line initiates a loop over the batches in the dataloader. In each iteration, it unpacks a batch into X (input features) and y (ground truth labels).\n",
    "- `pred = model(X):` This line passes the input features X through the model to obtain the model's predictions pred.\n",
    "\n",
    "- `loss = loss_fn(pred, y):` This line calculates the loss between the model's predictions pred and the ground truth labels y using the specified loss function loss_fn.\n",
    "\n",
    "- `loss.backward():` This line performs backpropagation to compute the gradients of the loss with respect to the model's parameters.\n",
    "\n",
    "- `optimizer.step():` This line updates the model's parameters using the computed gradients. The optimizer takes a step in the direction that reduces the loss.\n",
    "\n",
    "- `optimizer.zero_grad():` This line zeros out the gradients of the model's parameters after the optimization step. It is essential to clear the gradients before computing new "
   ]
  },
  {
   "cell_type": "code",
   "execution_count": 15,
   "metadata": {},
   "outputs": [],
   "source": [
    "def test_loop(dataloader, model, loss_fn):\n",
    "    model.eval()\n",
    "    size = len(dataloader.dataset)\n",
    "    num_batches = len(dataloader)\n",
    "    test_loss, correct = 0, 0\n",
    "\n",
    "    # Evaluating the model with torch.no_grad() ensures that no gradients are computed during test mode\n",
    "    # also serves to reduce unnecessary gradient computations and memory usage for tensors with requires_grad=True\n",
    "    with torch.no_grad():\n",
    "        for X, y in dataloader:\n",
    "            pred = model(X)\n",
    "            test_loss += loss_fn(pred, y).item()\n",
    "            correct += (pred.argmax(1) == y).type(torch.float).sum().item()\n",
    "\n",
    "    test_loss /= num_batches\n",
    "    correct /= size\n",
    "    print(f\"Test Error: \\n Accuracy: {(100*correct):>0.1f}%, Avg loss: {test_loss:>8f} \\n\")"
   ]
  },
  {
   "cell_type": "markdown",
   "metadata": {},
   "source": [
    "- `model.eval():` This line sets the model in evaluation mode. Some layers, like dropout and batch normalization, behave differently during training and evaluation. Setting the model in evaluation mode ensures that such layers are not applied during evaluation.\n",
    "- `with torch.no_grad():` This line creates a context manager using torch.no_grad(), which disables gradient computation for the following operations. This is crucial for evaluation to save computation and memory.\n",
    "- `test_loss += loss_fn(pred, y).item():` This line calculates the loss between the model's predictions pred and the ground truth labels y using the specified loss function loss_fn. The loss is added to the test_loss variable to compute the cumulative loss over all batches.\n",
    "- `correct += (pred.argmax(1) == y).type(torch.float).sum().item():` This line calculates the number of correct predictions by comparing the model's predicted class index (the index of the highest value in pred) with the ground truth labels y. It then converts the resulting Boolean tensor to float and sums the correct predictions over the batch."
   ]
  },
  {
   "cell_type": "code",
   "execution_count": 16,
   "metadata": {},
   "outputs": [
    {
     "name": "stdout",
     "output_type": "stream",
     "text": [
      "Epoch 1\n",
      "-------------------------------\n",
      "loss: 2.167865 [   64/60000]\n",
      "loss: 2.164467 [ 6464/60000]\n",
      "loss: 2.096689 [12864/60000]\n",
      "loss: 2.119823 [19264/60000]\n",
      "loss: 2.071922 [25664/60000]\n",
      "loss: 2.011602 [32064/60000]\n",
      "loss: 2.037684 [38464/60000]\n",
      "loss: 1.959946 [44864/60000]\n",
      "loss: 1.982416 [51264/60000]\n",
      "loss: 1.894180 [57664/60000]\n",
      "Test Error: \n",
      " Accuracy: 53.0%, Avg loss: 1.895716 \n",
      "\n",
      "Epoch 2\n",
      "-------------------------------\n",
      "loss: 1.927295 [   64/60000]\n",
      "loss: 1.907401 [ 6464/60000]\n",
      "loss: 1.776551 [12864/60000]\n",
      "loss: 1.825603 [19264/60000]\n",
      "loss: 1.722878 [25664/60000]\n",
      "loss: 1.666149 [32064/60000]\n",
      "loss: 1.689700 [38464/60000]\n",
      "loss: 1.585172 [44864/60000]\n",
      "loss: 1.624613 [51264/60000]\n",
      "loss: 1.507373 [57664/60000]\n",
      "Test Error: \n",
      " Accuracy: 58.2%, Avg loss: 1.529580 \n",
      "\n",
      "Epoch 3\n",
      "-------------------------------\n",
      "loss: 1.590795 [   64/60000]\n",
      "loss: 1.567051 [ 6464/60000]\n",
      "loss: 1.400884 [12864/60000]\n",
      "loss: 1.484929 [19264/60000]\n",
      "loss: 1.372178 [25664/60000]\n",
      "loss: 1.358258 [32064/60000]\n",
      "loss: 1.373359 [38464/60000]\n",
      "loss: 1.290184 [44864/60000]\n",
      "loss: 1.341478 [51264/60000]\n",
      "loss: 1.234750 [57664/60000]\n",
      "Test Error: \n",
      " Accuracy: 61.9%, Avg loss: 1.263898 \n",
      "\n",
      "Epoch 4\n",
      "-------------------------------\n",
      "loss: 1.332964 [   64/60000]\n",
      "loss: 1.327328 [ 6464/60000]\n",
      "loss: 1.146841 [12864/60000]\n",
      "loss: 1.265642 [19264/60000]\n",
      "loss: 1.142398 [25664/60000]\n",
      "loss: 1.162923 [32064/60000]\n",
      "loss: 1.182880 [38464/60000]\n",
      "loss: 1.112333 [44864/60000]\n",
      "loss: 1.169453 [51264/60000]\n",
      "loss: 1.079033 [57664/60000]\n",
      "Test Error: \n",
      " Accuracy: 64.0%, Avg loss: 1.101282 \n",
      "\n",
      "Epoch 5\n",
      "-------------------------------\n",
      "loss: 1.164363 [   64/60000]\n",
      "loss: 1.178663 [ 6464/60000]\n",
      "loss: 0.982261 [12864/60000]\n",
      "loss: 1.129947 [19264/60000]\n",
      "loss: 0.999553 [25664/60000]\n",
      "loss: 1.032561 [32064/60000]\n",
      "loss: 1.066545 [38464/60000]\n",
      "loss: 1.000985 [44864/60000]\n",
      "loss: 1.057617 [51264/60000]\n",
      "loss: 0.981344 [57664/60000]\n",
      "Test Error: \n",
      " Accuracy: 65.3%, Avg loss: 0.996085 \n",
      "\n",
      "Epoch 6\n",
      "-------------------------------\n",
      "loss: 1.047693 [   64/60000]\n",
      "loss: 1.082669 [ 6464/60000]\n",
      "loss: 0.869668 [12864/60000]\n",
      "loss: 1.038016 [19264/60000]\n",
      "loss: 0.907175 [25664/60000]\n",
      "loss: 0.939883 [32064/60000]\n",
      "loss: 0.990286 [38464/60000]\n",
      "loss: 0.928897 [44864/60000]\n",
      "loss: 0.978564 [51264/60000]\n",
      "loss: 0.915056 [57664/60000]\n",
      "Test Error: \n",
      " Accuracy: 66.7%, Avg loss: 0.923111 \n",
      "\n",
      "Epoch 7\n",
      "-------------------------------\n",
      "loss: 0.960518 [   64/60000]\n",
      "loss: 1.015044 [ 6464/60000]\n",
      "loss: 0.787959 [12864/60000]\n",
      "loss: 0.970793 [19264/60000]\n",
      "loss: 0.843833 [25664/60000]\n",
      "loss: 0.870788 [32064/60000]\n",
      "loss: 0.935959 [38464/60000]\n",
      "loss: 0.880017 [44864/60000]\n",
      "loss: 0.920292 [51264/60000]\n",
      "loss: 0.866665 [57664/60000]\n",
      "Test Error: \n",
      " Accuracy: 67.8%, Avg loss: 0.869510 \n",
      "\n",
      "Epoch 8\n",
      "-------------------------------\n",
      "loss: 0.892274 [   64/60000]\n",
      "loss: 0.963453 [ 6464/60000]\n",
      "loss: 0.726226 [12864/60000]\n",
      "loss: 0.918998 [19264/60000]\n",
      "loss: 0.798225 [25664/60000]\n",
      "loss: 0.817944 [32064/60000]\n",
      "loss: 0.894464 [38464/60000]\n",
      "loss: 0.845807 [44864/60000]\n",
      "loss: 0.876153 [51264/60000]\n",
      "loss: 0.829013 [57664/60000]\n",
      "Test Error: \n",
      " Accuracy: 69.0%, Avg loss: 0.828497 \n",
      "\n",
      "Epoch 9\n",
      "-------------------------------\n",
      "loss: 0.837315 [   64/60000]\n",
      "loss: 0.921792 [ 6464/60000]\n",
      "loss: 0.678172 [12864/60000]\n",
      "loss: 0.878033 [19264/60000]\n",
      "loss: 0.763857 [25664/60000]\n",
      "loss: 0.776882 [32064/60000]\n",
      "loss: 0.860739 [38464/60000]\n",
      "loss: 0.820753 [44864/60000]\n",
      "loss: 0.841791 [51264/60000]\n",
      "loss: 0.798241 [57664/60000]\n",
      "Test Error: \n",
      " Accuracy: 70.2%, Avg loss: 0.795817 \n",
      "\n",
      "Epoch 10\n",
      "-------------------------------\n",
      "loss: 0.791835 [   64/60000]\n",
      "loss: 0.886554 [ 6464/60000]\n",
      "loss: 0.639551 [12864/60000]\n",
      "loss: 0.845258 [19264/60000]\n",
      "loss: 0.736764 [25664/60000]\n",
      "loss: 0.744305 [32064/60000]\n",
      "loss: 0.831809 [38464/60000]\n",
      "loss: 0.801171 [44864/60000]\n",
      "loss: 0.814161 [51264/60000]\n",
      "loss: 0.772149 [57664/60000]\n",
      "Test Error: \n",
      " Accuracy: 71.4%, Avg loss: 0.768810 \n",
      "\n",
      "Done!\n"
     ]
    }
   ],
   "source": [
    "loss_fn = nn.CrossEntropyLoss()\n",
    "optimizer = torch.optim.SGD(model.parameters(), lr=learning_rate)\n",
    "\n",
    "epochs = 10\n",
    "for t in range(epochs):\n",
    "    print(f\"Epoch {t+1}\\n-------------------------------\")\n",
    "    train_loop(train_dataloader, model, loss_fn, optimizer)\n",
    "    test_loop(test_dataloader, model, loss_fn)\n",
    "print(\"Done!\")"
   ]
  },
  {
   "cell_type": "markdown",
   "metadata": {},
   "source": [
    "# Save and Load the Model"
   ]
  },
  {
   "cell_type": "code",
   "execution_count": 18,
   "metadata": {},
   "outputs": [],
   "source": [
    "import torch\n",
    "import torchvision.models as models"
   ]
  },
  {
   "cell_type": "markdown",
   "metadata": {},
   "source": [
    "## Saving and Loading Model Weights\n",
    "PyTorch models store the learned parameters in an internal\n",
    "state dictionary, called ``state_dict``. These can be persisted via the ``torch.save``\n",
    "method:\n",
    "\n"
   ]
  },
  {
   "cell_type": "code",
   "execution_count": 19,
   "metadata": {},
   "outputs": [
    {
     "name": "stderr",
     "output_type": "stream",
     "text": [
      "Downloading: \"https://download.pytorch.org/models/vgg16-397923af.pth\" to C:\\Users\\Msc 2/.cache\\torch\\hub\\checkpoints\\vgg16-397923af.pth\n",
      "100%|██████████| 528M/528M [01:10<00:00, 7.82MB/s] \n"
     ]
    }
   ],
   "source": [
    "model = models.vgg16(weights='IMAGENET1K_V1')\n",
    "torch.save(model.state_dict(), 'model_weights.pth')"
   ]
  },
  {
   "cell_type": "markdown",
   "metadata": {},
   "source": [
    "To load model weights, you need to create an instance of the same model first, and then load the parameters using ``load_state_dict()`` method."
   ]
  },
  {
   "cell_type": "code",
   "execution_count": 20,
   "metadata": {},
   "outputs": [
    {
     "data": {
      "text/plain": [
       "VGG(\n",
       "  (features): Sequential(\n",
       "    (0): Conv2d(3, 64, kernel_size=(3, 3), stride=(1, 1), padding=(1, 1))\n",
       "    (1): ReLU(inplace=True)\n",
       "    (2): Conv2d(64, 64, kernel_size=(3, 3), stride=(1, 1), padding=(1, 1))\n",
       "    (3): ReLU(inplace=True)\n",
       "    (4): MaxPool2d(kernel_size=2, stride=2, padding=0, dilation=1, ceil_mode=False)\n",
       "    (5): Conv2d(64, 128, kernel_size=(3, 3), stride=(1, 1), padding=(1, 1))\n",
       "    (6): ReLU(inplace=True)\n",
       "    (7): Conv2d(128, 128, kernel_size=(3, 3), stride=(1, 1), padding=(1, 1))\n",
       "    (8): ReLU(inplace=True)\n",
       "    (9): MaxPool2d(kernel_size=2, stride=2, padding=0, dilation=1, ceil_mode=False)\n",
       "    (10): Conv2d(128, 256, kernel_size=(3, 3), stride=(1, 1), padding=(1, 1))\n",
       "    (11): ReLU(inplace=True)\n",
       "    (12): Conv2d(256, 256, kernel_size=(3, 3), stride=(1, 1), padding=(1, 1))\n",
       "    (13): ReLU(inplace=True)\n",
       "    (14): Conv2d(256, 256, kernel_size=(3, 3), stride=(1, 1), padding=(1, 1))\n",
       "    (15): ReLU(inplace=True)\n",
       "    (16): MaxPool2d(kernel_size=2, stride=2, padding=0, dilation=1, ceil_mode=False)\n",
       "    (17): Conv2d(256, 512, kernel_size=(3, 3), stride=(1, 1), padding=(1, 1))\n",
       "    (18): ReLU(inplace=True)\n",
       "    (19): Conv2d(512, 512, kernel_size=(3, 3), stride=(1, 1), padding=(1, 1))\n",
       "    (20): ReLU(inplace=True)\n",
       "    (21): Conv2d(512, 512, kernel_size=(3, 3), stride=(1, 1), padding=(1, 1))\n",
       "    (22): ReLU(inplace=True)\n",
       "    (23): MaxPool2d(kernel_size=2, stride=2, padding=0, dilation=1, ceil_mode=False)\n",
       "    (24): Conv2d(512, 512, kernel_size=(3, 3), stride=(1, 1), padding=(1, 1))\n",
       "    (25): ReLU(inplace=True)\n",
       "    (26): Conv2d(512, 512, kernel_size=(3, 3), stride=(1, 1), padding=(1, 1))\n",
       "    (27): ReLU(inplace=True)\n",
       "    (28): Conv2d(512, 512, kernel_size=(3, 3), stride=(1, 1), padding=(1, 1))\n",
       "    (29): ReLU(inplace=True)\n",
       "    (30): MaxPool2d(kernel_size=2, stride=2, padding=0, dilation=1, ceil_mode=False)\n",
       "  )\n",
       "  (avgpool): AdaptiveAvgPool2d(output_size=(7, 7))\n",
       "  (classifier): Sequential(\n",
       "    (0): Linear(in_features=25088, out_features=4096, bias=True)\n",
       "    (1): ReLU(inplace=True)\n",
       "    (2): Dropout(p=0.5, inplace=False)\n",
       "    (3): Linear(in_features=4096, out_features=4096, bias=True)\n",
       "    (4): ReLU(inplace=True)\n",
       "    (5): Dropout(p=0.5, inplace=False)\n",
       "    (6): Linear(in_features=4096, out_features=1000, bias=True)\n",
       "  )\n",
       ")"
      ]
     },
     "execution_count": 20,
     "metadata": {},
     "output_type": "execute_result"
    }
   ],
   "source": [
    "model = models.vgg16() # we do not specify ``weights``, i.e. create untrained model\n",
    "model.load_state_dict(torch.load('model_weights.pth'))\n",
    "model.eval()"
   ]
  },
  {
   "cell_type": "markdown",
   "metadata": {},
   "source": [
    "<h4>Note</h4><p>be sure to call ``model.eval()`` method before inferencing to set the dropout and batch normalization layers to evaluation mode. Failing to do this will yield inconsistent inference results.</p></div>"
   ]
  },
  {
   "cell_type": "markdown",
   "metadata": {},
   "source": [
    "## Saving and Loading Models with Shapes\n",
    "When loading model weights, we needed to instantiate the model class first, because the class\n",
    "defines the structure of a network. We might want to save the structure of this class together with\n",
    "the model, in which case we can pass ``model`` (and not ``model.state_dict()``) to the saving function:\n",
    "\n"
   ]
  },
  {
   "cell_type": "code",
   "execution_count": 21,
   "metadata": {},
   "outputs": [],
   "source": [
    "torch.save(model, 'model.pth')"
   ]
  },
  {
   "cell_type": "markdown",
   "metadata": {},
   "source": [
    "We can then load the model like this:\n",
    "\n"
   ]
  },
  {
   "cell_type": "code",
   "execution_count": 22,
   "metadata": {},
   "outputs": [],
   "source": [
    "model = torch.load('model.pth')"
   ]
  },
  {
   "cell_type": "markdown",
   "metadata": {},
   "source": [
    "<h4>Note</h4><p>This approach uses Python [pickle](https://docs.python.org/3/library/pickle.html) module when serializing the model, thus it relies on the actual class definition to be available when loading the model.</p></div>"
   ]
  }
 ],
 "metadata": {
  "kernelspec": {
   "display_name": "base",
   "language": "python",
   "name": "python3"
  },
  "language_info": {
   "codemirror_mode": {
    "name": "ipython",
    "version": 3
   },
   "file_extension": ".py",
   "mimetype": "text/x-python",
   "name": "python",
   "nbconvert_exporter": "python",
   "pygments_lexer": "ipython3",
   "version": "3.10.9"
  },
  "orig_nbformat": 4
 },
 "nbformat": 4,
 "nbformat_minor": 2
}
